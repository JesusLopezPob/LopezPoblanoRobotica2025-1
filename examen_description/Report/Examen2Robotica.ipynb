{
 "cells": [
  {
   "cell_type": "markdown",
   "id": "b16d8228",
   "metadata": {},
   "source": [
    "| Código | Description |\n",
    "| ------:| ----------- |\n",
    "| **Robotica-2025-I**  | Parcial 2  |"
   ]
  },
  {
   "cell_type": "markdown",
   "id": "49e192d0-bc46-4e46-a1b8-84d4f19947ec",
   "metadata": {},
   "source": [
    "# Examen Parcial 2: Modelado y Simulación de un Robot Serial 4R en un Entorno 3D"
   ]
  },
  {
   "cell_type": "markdown",
   "id": "fe0fe5ba-5625-43f2-8160-50c80f39d156",
   "metadata": {},
   "source": [
    "### CONTENIDO\n",
    "- [Objetivo](#objetivo)\n",
    "- [Desarrollo](#desarrollo)\n",
    "- [Conclusiones](#conclusiones)\n",
    "- [Autor](#autor)\n",
    "- [Referencias](#referencias)\n",
    "  "
   ]
  },
  {
   "cell_type": "markdown",
   "id": "cc4b50c2-6fee-42ab-8f4c-57ae8c797e31",
   "metadata": {},
   "source": [
    "---"
   ]
  },
  {
   "cell_type": "markdown",
   "id": "956f3a62-78ac-47db-8f13-93559b18c89a",
   "metadata": {},
   "source": [
    "## Objetivo <a name=\"Objetivo\"></a>\n",
    "\n",
    "El objetivo de este examen es modelar, simular e implementar el control de un robot serial 4R utilizando ROS 2, Gazebo y modelos matemáticos que describen tanto su cinemática directa como inversa. Este trabajo integra múltiples etapas clave: desde el diseño y representación matemática del robot hasta su simulación en un entorno virtual controlado para validar su funcionamiento. \n",
    "\n",
    "El examen se desarrolló en las siguientes etapas:\n",
    "\n",
    "Diseño de un modelo virtual: Crear la representación tridimensional del robot 4R en un simulador como Gazebo, asegurando que los parámetros estructurales y dinámicos reflejen las características reales del sistema.\n",
    "\n",
    "Representación matemática: Definir los modelos matemáticos de la cinemática directa e inversa, que describen el comportamiento del robot en términos de posición, orientación y configuración articular.\n",
    "\n",
    "Implementación en ROS 2: Integrar el modelo matemático con el entorno de simulación y control, utilizando los paquetes y herramientas disponibles en ROS 2 para manejar el control de los movimientos y la interacción con el entorno.\n",
    "\n",
    "Simulación controlada: Validar el desempeño del robot en Gazebo, verificando que los movimientos y posiciones alcanzadas sean consistentes con los cálculos del modelo matemático y los comandos de control."
   ]
  },
  {
   "cell_type": "markdown",
   "id": "d25ccc5a-530a-4f96-8865-e14ab064d047",
   "metadata": {},
   "source": [
    "---"
   ]
  },
  {
   "cell_type": "markdown",
   "id": "464839fa-d3ad-49e4-b9a0-20a241d7b29a",
   "metadata": {},
   "source": [
    "## Desarrollo   <a name=\"Desarrollo\"></a>\n"
   ]
  },
  {
   "cell_type": "markdown",
   "id": "2acd1bc7-f4b0-4e27-ae28-c82ce4ea1aa0",
   "metadata": {},
   "source": [
    "### Planteamiento del Robot 4R"
   ]
  },
  {
   "cell_type": "markdown",
   "id": "cdf16c32-5c5d-4ab7-9d1c-766a39136b28",
   "metadata": {
    "jp-MarkdownHeadingCollapsed": true
   },
   "source": [
    "**Descripción del robot:**\n",
    "- Robot serial con 4 grados de libertad y juntas rotacionales (4R).\n",
    "- Componentes principales: base fija, cuatro enlaces y cuatro juntas.  \n",
    "  \n",
    "<div align=\"center\" style=\"display: flex; justify-content: center; gap: 0; margin: 0;\">\n",
    "    <div style=\"text-align: center;\" >\n",
    "        <img src=\"Images/image1.png\" alt=\"Figura 1. Visualización URDF en el entorno Rviz\" width=\"80%\" height=\"auto\" />\n",
    "        <br>\n",
    "        <em>Figura 1. Visualización URDF en el entorno Rviz</em>\n",
    "    </div>\n",
    "</div>"
   ]
  },
  {
   "cell_type": "markdown",
   "id": "1dde67f0-b75a-4a12-9af4-0bc0b9df2548",
   "metadata": {},
   "source": [
    "**Creación del modelo URDF:**\n",
    "\n"
   ]
  },
  {
   "cell_type": "markdown",
   "id": "7680c7df-c4e4-4df5-b13a-5b51b4f90107",
   "metadata": {},
   "source": [
    "```xml\n",
    "<?xml version=\"1.0\" encoding=\"utf-8\"?>\n",
    "\n",
    "<robot name=\"\" xmlns:xacro=\"http://ros.org/wiki/xacro\" >\n",
    "\n",
    "\n",
    "     <material name=\"silver\">\n",
    "    <color rgba=\"0.700 0.700 0.700 1.000\"/>\n",
    "  </material>\n",
    "\n",
    "  <link name=\"world\">\n",
    "      </link>\n",
    "\n",
    "  <link name=\"base_link\">\n",
    "    <inertial>\n",
    "      <origin xyz=\"0 0 0\" rpy=\"0 0 0\"/>\n",
    "      <mass value=\"5.0\"/>\n",
    "      <inertia ixx=\"0.1\" iyy=\"0.1\" izz=\"0.1\" ixy=\"0.0\" iyz=\"0.0\" ixz=\"0.0\"/>\n",
    "    </inertial>\n",
    "    <visual>\n",
    "      <origin xyz=\"0 0 0\" rpy=\"0 0 0\"/>\n",
    "      <geometry>\n",
    "        <mesh filename=\"model://examen_description/meshes/base_link.stl\" scale=\"0.001 0.001 0.001\"/>\n",
    "      </geometry>\n",
    "      <material name=\"silver\"/>\n",
    "      <material/>\n",
    "    </visual>\n",
    "    <collision>\n",
    "      <origin xyz=\"0 0 0\" rpy=\"0 0 0\"/>\n",
    "      <geometry>\n",
    "        <mesh filename=\"model://examen_description/meshes/base_link.stl\" scale=\"0.001 0.001 0.001\"/>\n",
    "      </geometry>\n",
    "    </collision>\n",
    "  </link>\n",
    "\n",
    "  <link name=\"Link_11\">\n",
    "    <inertial>\n",
    "      <origin xyz=\"-1.9362964206263425e-06 0.00023502025240244623 0.028408678739873995\" rpy=\"0 0 0\"/>\n",
    "      <mass value=\"0.1881057997429459\"/>\n",
    "      <inertia ixx=\"0.0002013136648267291\" iyy=\"0.00019527411438701012\" izz=\"0.00010614315800378446\" ixy=\"-2.3656878209275364e-09\" iyz=\"-2.1885649694925894e-06\" ixz=\"9.6873738451118e-09\"/>\n",
    "    </inertial>\n",
    "    <visual>\n",
    "      <origin xyz=\"-0.000674 0.00181 -0.051254\" rpy=\"0 0 0\"/>\n",
    "      <geometry>\n",
    "        <mesh filename= \"model://examen_description/meshes/Link_11.stl\"  scale=\"0.001 0.001 0.001\"/>\n",
    "      </geometry>\n",
    "      <material name=\"silver\"/>\n",
    "      <material/>\n",
    "    </visual>\n",
    "    <collision>\n",
    "      <origin xyz=\"-0.000674 0.00181 -0.051254\" rpy=\"0 0 0\"/>\n",
    "      <geometry>\n",
    "        <mesh filename= \"model://examen_description/meshes/Link_11.stl\"  scale=\"0.001 0.001 0.001\"/>\n",
    "      </geometry>\n",
    "    </collision>\n",
    "  </link>\n",
    "\n",
    "\n",
    "  <link name=\"Link_21\">\n",
    "    <inertial>\n",
    "      <origin xyz=\"-0.20895744730856985 -0.026270064504570433 -5.6397706098790246e-05\" rpy=\"0 0 0\"/>\n",
    "      <mass value=\"0.2624863981848249\"/>\n",
    "      <inertia ixx=\"0.00010197354468461468\" iyy=\"0.003282178036223188\" izz=\"0.0033091252582860588\" ixy=\"5.687861080477485e-06\" iyz=\"1.714904543647115e-10\" ixz=\"-1.4003145936553052e-06\"/>\n",
    "    </inertial>\n",
    "    <visual>\n",
    "      <origin xyz=\"-0.000674 -0.024215 -0.119279\" rpy=\"0 0 0\"/>\n",
    "      <geometry>\n",
    "        <mesh filename=\"model://examen_description/meshes/Link_21.stl\" scale=\"0.001 0.001 0.001\"/>\n",
    "      </geometry>\n",
    "      <material name=\"silver\"/>\n",
    "      <material/>\n",
    "    </visual>\n",
    "    <collision>\n",
    "      <origin xyz=\"-0.000674 -0.024215 -0.119279\" rpy=\"0 0 0\"/>\n",
    "      <geometry>\n",
    "        <mesh filename=\"model://examen_description/meshes/Link_21.stl\" scale=\"0.001 0.001 0.001\"/>\n",
    "      </geometry>\n",
    "    </collision>\n",
    "  </link>\n",
    "\n",
    "\n",
    "\n",
    "  <link name=\"Link_31\">\n",
    "    <inertial>\n",
    "      <origin xyz=\"-0.1478467249434351 0.024499724527640994 0.004150145149179232\" rpy=\"0 0 0\"/>\n",
    "      <mass value=\"0.3796337573160341\"/>\n",
    "      <inertia ixx=\"0.00023463252909112445\" iyy=\"0.0015114267774865436\" izz=\"0.001499332787807714\" ixy=\"2.208562044185569e-11\" iyz=\"3.5764531120712276e-12\" ixz=\"3.905214442601057e-06\"/>\n",
    "    </inertial>\n",
    "    <visual>\n",
    "      <origin xyz=\"0.314576 0.026785 -0.119029\" rpy=\"0 0 0\"/>\n",
    "      <geometry>\n",
    "        <mesh filename=\"model://examen_description/meshes/Link_31.stl\" scale=\"0.001 0.001 0.001\"/>\n",
    "      </geometry>\n",
    "      <material name=\"silver\"/>\n",
    "      <material/>\n",
    "    </visual>\n",
    "    <collision>\n",
    "      <origin xyz=\"0.314576 0.026785 -0.119029\" rpy=\"0 0 0\"/>\n",
    "      <geometry>\n",
    "        <mesh filename=\"model://examen_description/meshes/Link_31.stl\" scale=\"0.001 0.001 0.001\"/>\n",
    "      </geometry>\n",
    "    </collision>\n",
    "  </link>\n",
    "\n",
    "  <link name=\"Link_41\">\n",
    "    <inertial>\n",
    "      <origin xyz=\"-0.044654234436106166 -0.0190920304552995 -0.0043414869190231825\" rpy=\"0 0 0\"/>\n",
    "      <mass value=\"0.15497848066200157\"/>\n",
    "      <inertia ixx=\"4.902510800966833e-05\" iyy=\"0.00014627365156272276\" izz=\"0.00014226945050014456\" ixy=\"7.042813085306676e-07\" iyz=\"8.769989213383296e-08\" ixz=\"-9.054534622141355e-06\"/>\n",
    "    </inertial>\n",
    "    <visual>\n",
    "      <origin xyz=\"0.569076 -0.016715 -0.119029\" rpy=\"0 0 0\"/>\n",
    "      <geometry>\n",
    "        <mesh filename=\"model://examen_description/meshes/Link_41.stl\" scale=\"0.001 0.001 0.001\"/>\n",
    "      </geometry>\n",
    "      <material name=\"silver\"/>\n",
    "      <material/>\n",
    "    </visual>\n",
    "    <collision>\n",
    "      <origin xyz=\"0.569076 -0.016715 -0.119029\" rpy=\"0 0 0\"/>\n",
    "      <geometry>\n",
    "        <mesh filename=\"model://examen_description/meshes/Link_41.stl\" scale=\"0.001 0.001 0.001\"/>\n",
    "      </geometry>\n",
    "    </collision>\n",
    "  </link>\n",
    "\n",
    "\n",
    "\n",
    "  <link name=\"P\">\n",
    "  </link>\n",
    "\n",
    "\n",
    "  <joint name=\"world_joint\" type=\"fixed\">\n",
    "      <parent link=\"world\"/>\n",
    "      <child link=\"base_link\"/>\n",
    "      <origin xyz=\"0 0 0.0\" rpy=\"0 0 0\"/>\n",
    "  </joint>\n",
    "\n",
    "\n",
    "\n",
    "  <joint name=\"base_link_to_link_1\" type=\"revolute\">\n",
    "    <origin xyz=\"0.000674 -0.00181 0.051254\" rpy=\"0 0 0\"/>\n",
    "    <parent link=\"base_link\"/>\n",
    "    <child link=\"Link_11\"/>\n",
    "    <axis xyz=\"0.0 0.0 1.0\"/>\n",
    "    <limit upper=\"3.141593\" lower=\"-3.141593\" effort=\"100\" velocity=\"100\"/>\n",
    "  </joint>\n",
    "\n",
    "    \n",
    "\n",
    "  <joint name=\"link_1_to_link_2\" type=\"revolute\">\n",
    "    <origin xyz=\"0.0 0.026025 0.068025\" rpy=\"0 0 0\"/>\n",
    "    <parent link=\"Link_11\"/>\n",
    "    <child link=\"Link_21\"/>\n",
    "    <axis xyz=\"0.0 -1.0 0.0\"/>\n",
    "    <limit upper=\"3.141593\" lower=\"-3.141593\" effort=\"100\" velocity=\"100\"/>\n",
    "  </joint>\n",
    "\n",
    "\n",
    "\n",
    "  <joint name=\"link_2_to_link_3\" type=\"revolute\">\n",
    "    <origin xyz=\"-0.31525 -0.051 -0.00025\" rpy=\"0 0 0\"/>\n",
    "    <parent link=\"Link_21\"/>\n",
    "    <child link=\"Link_31\"/>\n",
    "    <axis xyz=\"-0.0 -1.0 0.0\"/>\n",
    "    <limit upper=\"3.141593\" lower=\"-3.141593\" effort=\"100\" velocity=\"100\"/>\n",
    "  </joint>\n",
    "\n",
    "\n",
    "  <joint name=\"link_3_to_link_4\" type=\"revolute\">\n",
    "    <origin xyz=\"-0.2545 0.0435 0.0\" rpy=\"0 0 0\"/>\n",
    "    <parent link=\"Link_31\"/>\n",
    "    <child link=\"Link_41\"/>\n",
    "    <axis xyz=\"-0.0 -1.0 -0.0\"/>\n",
    "    <limit upper=\"3.141593\" lower=\"-3.141593\" effort=\"100\" velocity=\"100\"/>\n",
    "  </joint>\n",
    "\n",
    "\n",
    "  <joint name=\"link_P_joint\" type=\"fixed\">\n",
    "      <origin xyz=\"-0.1 -0.02 0.0\" rpy=\"0 4.71 0\"/>\n",
    "      <parent link=\"Link_41\"/>\n",
    "      <child link=\"P\"/>\n",
    "  </joint>\n",
    "\n",
    "</robot>"
   ]
  },
  {
   "cell_type": "markdown",
   "id": "a99ea0cd-3079-4dfa-a2ed-b3ebb77d4bac",
   "metadata": {},
   "source": [
    "### Cinemática Directa"
   ]
  },
  {
   "cell_type": "markdown",
   "id": "f1395b91-c9d5-4ad3-bc2f-00c7b019312e",
   "metadata": {},
   "source": [
    "Para la primera parte del examen, se requiere plantear la cinemática directa del robot, enfocándonos en la descripción de su postura. Para lograrlo, utilizaremos transformaciones homogéneas que nos permitan modelar matemáticamente el robot y determinar su postura de manera precisa en el espacio. Este enfoque es fundamental para comprender la posición y orientación del efector final en relación con la base del robot."
   ]
  },
  {
   "cell_type": "markdown",
   "id": "b1e73533",
   "metadata": {},
   "source": [
    "$$\n",
    "T = \n",
    "\\begin{bmatrix}\n",
    "R_{3 \\times 3} & d_{3 \\times 1} \\\\\n",
    "f_{1 \\times 3} & s_{1 \\times 1}\n",
    "\\end{bmatrix}\n",
    "= \n",
    "\\begin{bmatrix}\n",
    "\\text{Rotation} & \\text{Translation} \\\\\n",
    "\\text{perspective} & \\text{scale factor}\n",
    "\\end{bmatrix}.\n",
    "$$"
   ]
  },
  {
   "cell_type": "markdown",
   "id": "cf7a5e80-0ace-4644-840f-f4b07b3bb6ad",
   "metadata": {},
   "source": [
    "Para determinar la postura del robot, es necesario considerar tanto su posición como su orientación."
   ]
  },
  {
   "cell_type": "markdown",
   "id": "63fcf537",
   "metadata": {},
   "source": [
    "$$\n",
    "{}^0\\xi_P = \n",
    "\\begin{bmatrix}\n",
    "\\mathbf{p}_P \\\\\n",
    "\\mathbf{\\theta}_P\n",
    "\\end{bmatrix}\n",
    "=\n",
    "\\begin{bmatrix}\n",
    "{}^0x_P \\\\\n",
    "{}^0y_P \\\\\n",
    "{}^0z_P \\\\\n",
    "{}^0\\gamma_P \\\\\n",
    "{}^0\\beta_P \\\\\n",
    "{}^0\\alpha_P\n",
    "\\end{bmatrix}\n",
    "$$"
   ]
  },
  {
   "cell_type": "markdown",
   "id": "4d716a9c",
   "metadata": {},
   "source": [
    "Para calcular la cinemática directa de la postura, utilizaremos transformaciones homogéneas para describir el robot, considerando los siguientes parámetros"
   ]
  },
  {
   "cell_type": "markdown",
   "id": "7f558cd1",
   "metadata": {},
   "source": [
    "$$\n",
    "\\begin{array}{|c|c|c|c|c|c|}\n",
    "\\hline\n",
    "\\text{Link} & x_i & y_i & z_i & \\gamma_i & \\beta_i & \\alpha_i  \\\\\n",
    "\\hline\n",
    "1 & 0 & 0 & h1 & 0 & 0 & \\theta_1^* \\\\\n",
    "2 & 0 & 0 & h2 & 0 &\\theta_2^* - \\pi/2 &0 \\\\\n",
    "3 & l_1 & 0 & 0 & 0 &\\theta_3^* & 0 \\\\\n",
    "4 & l_2 & 0 & 0 & 0 & \\theta_4^* & 0 \\\\\n",
    "P & l_3 & 0 & 0 & 0 & 0 &0 \\\\\n",
    "\\hline\n",
    "\\end{array}\n",
    "$$\n",
    "\n",
    "<div align=\"center\" style=\"display: flex; justify-content: center; gap: 0; margin: 0;\">\n",
    "    <div style=\"text-align: center;\" >\n",
    "        <img src=\"Images/rob1.jpg\" alt=\"Figura 2. Diagrama de la cinematica directa en rviz\" width=\"80%\" height=\"auto\" />\n",
    "        <br>\n",
    "        <em>Figura 2. Diagrama de la cinematica directa en rviz</em>\n",
    "    </div>\n",
    "</div>\n",
    "<div align=\"center\" style=\"display: flex; justify-content: center; gap: 0; margin: 0;\">\n",
    "    <div style=\"text-align: center;\" >\n",
    "        <img src=\"Images/rob2.png\" alt=\"Figura 3. Visualizacion de la cinematica directa en rviz\" width=\"80%\" height=\"auto\" />\n",
    "        <br>\n",
    "        <em>Figura 3. Visualizacion de la cinematica directa en rviz</em>\n",
    "    </div>\n",
    "</div>\n",
    "\n",
    "\n",
    "\n"
   ]
  },
  {
   "cell_type": "markdown",
   "id": "46dbda8d",
   "metadata": {},
   "source": [
    "Las transformaciones homogéneas correspondientes a cada base son las siguientes:"
   ]
  },
  {
   "cell_type": "markdown",
   "id": "1f6bbb05",
   "metadata": {},
   "source": [
    "$$\n",
    "T_{0}^{1} =\n",
    "\\begin{bmatrix}\n",
    "\\cos(\\theta_{0,1}) & -\\sin(\\theta_{0,1}) & 0 & 0 \\\\\n",
    "\\sin(\\theta_{0,1}) & \\cos(\\theta_{0,1}) & 0 & 0 \\\\\n",
    "0 & 0 & 1 & z_{0,1} \\\\\n",
    "0 & 0 & 0 & 1\n",
    "\\end{bmatrix}\n",
    "$$\n",
    "\n",
    "$$\n",
    "T_{1}^{2} =\n",
    "\\begin{bmatrix}\n",
    "\\cos\\left(\\frac{\\pi}{2} - \\theta_{1,2}\\right) & 0 & -\\sin\\left(\\frac{\\pi}{2} - \\theta_{1,2}\\right) & 0 \\\\\n",
    "0 & 1 & 0 & 0 \\\\\n",
    "\\sin\\left(\\frac{\\pi}{2} - \\theta_{1,2}\\right) & 0 & \\cos\\left(\\frac{\\pi}{2} - \\theta_{1,2}\\right) & z_{1,2} \\\\\n",
    "0 & 0 & 0 & 1\n",
    "\\end{bmatrix}\n",
    "$$\n",
    "\n",
    "$$\n",
    "T_{2}^{3} =\n",
    "\\begin{bmatrix}\n",
    "\\cos\\left(\\theta_{2,3}\\right) & 0 & \\sin\\left(\\theta_{2,3}\\right) & x_{2,3} \\\\\n",
    "0 & 1 & 0 & 0 \\\\\n",
    "-\\sin\\left(\\theta_{2,3}\\right) & 0 & \\cos\\left(\\theta_{2,3}\\right) & 0 \\\\\n",
    "0 & 0 & 0 & 1\n",
    "\\end{bmatrix}\n",
    "$$\n",
    "\n",
    "\n",
    "$$\n",
    "T_{3}^{4} =\n",
    "\\begin{bmatrix}\n",
    "\\cos(\\theta_{3,4}) & 0 & \\sin(\\theta_{3,4}) & x_{3,4} \\\\\n",
    "0 & 1 & 0 & 0 \\\\\n",
    "-\\sin(\\theta_{3,4}) & 0 & \\cos(\\theta_{3,4}) & 0 \\\\\n",
    "0 & 0 & 0 & 1\n",
    "\\end{bmatrix}\n",
    "$$\n",
    "\n",
    "$$\n",
    "T_{4}^{P} =\n",
    "\\begin{bmatrix}\n",
    "1 & 0 & 0 & x_{4,P} \\\\\n",
    "0 & 1 & 0 & 0 \\\\\n",
    "0 & 0 & 1 & 0 \\\\\n",
    "0 & 0 & 0 & 1\n",
    "\\end{bmatrix}\n",
    "$$\n"
   ]
  },
  {
   "cell_type": "markdown",
   "id": "e5601af3",
   "metadata": {},
   "source": [
    "Y la matriz de transformacion homogenea del sistema completo es la siguiente:"
   ]
  },
  {
   "cell_type": "markdown",
   "id": "48cce7b4",
   "metadata": {},
   "source": [
    "$$\n",
    "T_0^P =\n",
    "\\begin{bmatrix}\n",
    "\\cos\\left(\\theta_{0,1}\\right)\\sigma_3 & -\\sin\\left(\\theta_{0,1}\\right) & \\cos\\left(\\theta_{0,1}\\right)\\sigma_1 & \\cos\\left(\\theta_{0,1}\\right)\\sigma_2 \\\\\n",
    "\\sin\\left(\\theta_{0,1}\\right)\\sigma_3 & \\cos\\left(\\theta_{0,1}\\right)  & \\sin\\left(\\theta_{0,1}\\right)\\sigma_1 & \\sin\\left(\\theta_{0,1}\\right)\\sigma_2 \\\\\n",
    "-\\sigma_1                              & 0                               & \\sigma_3                             & z_{0,1} + z_{1,2} + x_{2,3}\\sin\\left(\\frac{\\pi}{2}-\\theta_{1,2}\\right) - x_{3,4}\\sin\\left(\\theta_{1,2} - \\frac{\\pi}{2} + \\theta_{2,3}\\right) - x_{4,P}\\sigma_1 \\\\\n",
    "0                                      & 0                               & 0                                    & 1\n",
    "\\end{bmatrix}\n",
    "$$\n",
    "Donde:\n",
    "$$\n",
    "\\begin{aligned}\n",
    "\\sigma_1 &= \\sin\\left(\\theta_{1,2} - \\frac{\\pi}{2} + \\theta_{2,3} + \\theta_{3,4}\\right), \\\\\n",
    "\\sigma_2 &= x_{2,3}\\cos\\left(\\frac{\\pi}{2} - \\theta_{1,2}\\right) + x_{3,4}\\cos\\left(\\theta_{1,2} - \\frac{\\pi}{2} + \\theta_{2,3}\\right) + x_{4,P}\\sigma_3, \\\\\n",
    "\\sigma_3 &= \\cos\\left(\\theta_{1,2} - \\frac{\\pi}{2} + \\theta_{2,3} + \\theta_{3,4}\\right).\n",
    "\\end{aligned}\n",
    "$$\n"
   ]
  },
  {
   "cell_type": "markdown",
   "id": "d3136afa-21ce-4f0e-aa9c-bbf6e991eb8e",
   "metadata": {},
   "source": [
    "Ya que tenemos nuestra matriz, podemos obtener el vector de postura $^0\\xi_P$"
   ]
  },
  {
   "cell_type": "markdown",
   "id": "d236445f-103a-4293-9386-0e17717d9711",
   "metadata": {},
   "source": [
    "$$\n",
    "^0\\xi_P =\n",
    "\\begin{bmatrix}\n",
    "\\cos\\left(\\theta_{0,1}\\right)\\,\\sigma_1 \\\\\n",
    "\\sin\\left(\\theta_{0,1}\\right)\\,\\sigma_1 \\\\\n",
    "z_{0,1} + z_{1,2} + x_{2,3}\\sin\\left(\\frac{\\pi}{2} - \\theta_{1,2}\\right) \n",
    "- x_{3,4}\\sin\\left(\\theta_{1,2} - \\frac{\\pi}{2} + \\theta_{2,3}\\right) \n",
    "- x_{4,P}\\sin\\left(\\theta_{1,2} - \\frac{\\pi}{2} + \\theta_{2,3} + \\theta_{3,4}\\right) \\\\\n",
    "\\cos\\left(\\theta_{0,1}\\right)\\cos\\left(\\theta_{1,2} - \\frac{\\pi}{2} + \\theta_{2,3} + \\theta_{3,4}\\right) \\\\\n",
    "\\cos\\left(\\theta_{0,1}\\right) \\\\\n",
    "\\cos\\left(\\theta_{1,2} - \\frac{\\pi}{2} + \\theta_{2,3} + \\theta_{3,4}\\right)\n",
    "\\end{bmatrix}\n",
    "$$"
   ]
  },
  {
   "cell_type": "markdown",
   "id": "62c49dce-b714-4df3-a7cd-e7375513c7bb",
   "metadata": {},
   "source": [
    "Donde:\n"
   ]
  },
  {
   "cell_type": "markdown",
   "id": "760708bb-0066-42df-8139-36ed33c194ef",
   "metadata": {},
   "source": [
    "$$\n",
    "\\sigma_1 = x_{2,3}\\cos\\left(\\frac{\\pi}{2} - \\theta_{1,2}\\right) \n",
    "+ x_{3,4}\\cos\\left(\\theta_{1,2} - \\frac{\\pi}{2} + \\theta_{2,3}\\right) \n",
    "+ x_{4,P}\\cos\\left(\\theta_{1,2} - \\frac{\\pi}{2} + \\theta_{2,3} + \\theta_{3,4}\\right).\n",
    "$$"
   ]
  },
  {
   "cell_type": "markdown",
   "id": "5182b63a-8d54-4d05-8e49-85aa178d9af3",
   "metadata": {},
   "source": [
    "## Cinematica directa de velocidad"
   ]
  },
  {
   "cell_type": "markdown",
   "id": "8c266782-a8aa-41bd-93a0-df79d107bf9e",
   "metadata": {},
   "source": [
    "Una vez obtenido el vector de postura $^0\\xi_P$, es posible calcular el jacobiano, el cual se define de la siguiente manera:"
   ]
  },
  {
   "cell_type": "markdown",
   "id": "590462a0-04ef-4fd3-aadb-c6a4deb1c92d",
   "metadata": {},
   "source": [
    "$$\n",
    "J(q) =\n",
    "\\begin{bmatrix}\n",
    "-\\sin\\left(\\theta_{0,1}\\right)\\sigma_3 & -\\cos\\left(\\theta_{0,1}\\right)\\sigma_1 & -\\cos\\left(\\theta_{0,1}\\right)\\sigma_4 & -x_{4,P}\\cos\\left(\\theta_{0,1}\\right)\\sin\\left(\\sigma_6\\right) \\\\\n",
    "\\cos\\left(\\theta_{0,1}\\right)\\sigma_3 & -\\sin\\left(\\theta_{0,1}\\right)\\sigma_1 & -\\sin\\left(\\theta_{0,1}\\right)\\sigma_4 & -x_{4,P}\\sin\\left(\\theta_{0,1}\\right)\\sin\\left(\\sigma_6\\right) \\\\\n",
    "0 & -\\sigma_5 - x_{3,4}\\cos\\left(\\sigma_7\\right) - x_{4,P}\\cos\\left(\\sigma_6\\right) & -x_{3,4}\\cos\\left(\\sigma_7\\right) - x_{4,P}\\cos\\left(\\sigma_6\\right) & -x_{4,P}\\cos\\left(\\sigma_6\\right) \\\\\n",
    "-\\sin\\left(\\theta_{0,1}\\right)\\cos\\left(\\sigma_6\\right) & \\sigma_2 & \\sigma_2 & \\sigma_2 \\\\\n",
    "-\\sin\\left(\\theta_{0,1}\\right) & 0 & 0 & 0 \\\\\n",
    "0 & -\\sin\\left(\\sigma_6\\right) & -\\sin\\left(\\sigma_6\\right) & -\\sin\\left(\\sigma_6\\right)\n",
    "\\end{bmatrix}\n",
    "$$\n"
   ]
  },
  {
   "cell_type": "markdown",
   "id": "c38d71a2-2fbd-4f1d-ba85-17d59e4e2cb6",
   "metadata": {},
   "source": [
    "Donde:"
   ]
  },
  {
   "cell_type": "markdown",
   "id": "9aec4b97-35d8-4241-a257-d33e3eaa5e99",
   "metadata": {},
   "source": [
    "$$\n",
    "\\begin{aligned}\n",
    "\\sigma_1 &= x_{3,4}\\sin\\left(\\sigma_7\\right) - x_{2,3}\\sin\\left(\\frac{\\pi}{2} - \\theta_{1,2}\\right) + x_{4,P}\\sin\\left(\\sigma_6\\right), \\\\\n",
    "\\sigma_2 &= -\\cos\\left(\\theta_{0,1}\\right)\\sin\\left(\\sigma_6\\right), \\\\\n",
    "\\sigma_3 &= \\sigma_5 + x_{3,4}\\cos\\left(\\sigma_7\\right) + x_{4,P}\\cos\\left(\\sigma_6\\right), \\\\\n",
    "\\sigma_4 &= x_{3,4}\\sin\\left(\\sigma_7\\right) + x_{4,P}\\sin\\left(\\sigma_6\\right), \\\\\n",
    "\\sigma_5 &= x_{2,3}\\cos\\left(\\frac{\\pi}{2} - \\theta_{1,2}\\right), \\\\\n",
    "\\sigma_6 &= \\theta_{1,2} - \\frac{\\pi}{2} + \\theta_{2,3} + \\theta_{3,4}, \\\\\n",
    "\\sigma_7 &= \\theta_{1,2} - \\frac{\\pi}{2} + \\theta_{2,3}.\n",
    "\\end{aligned}\n",
    "$$"
   ]
  },
  {
   "cell_type": "markdown",
   "id": "5161bdec-25d6-422d-a2eb-515079b8be63",
   "metadata": {},
   "source": [
    "Ya que desarrrollamos el Jacobiano ya podemos planetar el modelo cinematico con ayuda del vector $\\dot{q}$"
   ]
  },
  {
   "cell_type": "markdown",
   "id": "0b38d313-b54e-44b2-850f-c40ae602c8b4",
   "metadata": {},
   "source": [
    "$$\n",
    "\\dot{q} =\n",
    "\\begin{bmatrix}\n",
    "{\\dot{\\theta}}_{0,1} \\\\\n",
    "{\\dot{\\theta}}_{1,2} \\\\\n",
    "{\\dot{\\theta}}_{2,3} \\\\\n",
    "{\\dot{\\theta}}_{3,4}\n",
    "\\end{bmatrix}\n",
    "$$"
   ]
  },
  {
   "cell_type": "markdown",
   "id": "b95e1573-5095-426f-890a-55aadc337879",
   "metadata": {},
   "source": [
    "El modelo cinemático directo de velocidades se expresa de la siguiente forma:"
   ]
  },
  {
   "cell_type": "markdown",
   "id": "7ab56eb2-61d9-486d-ad20-b6fec51c3ecf",
   "metadata": {},
   "source": [
    "$$\n",
    "\\dot{\\xi}_{0,P} =\n",
    "\\begin{bmatrix}\n",
    "-{\\dot{\\theta} }_{2,3} \\,\\cos \\left(\\theta_{0,1} \\right)\\,\\sigma_3 -{\\dot{\\theta} }_{0,1} \\,\\sin \\left(\\theta_{0,1} \\right)\\,\\sigma_1 -{\\dot{\\theta} }_{1,2} \\,\\cos \\left(\\theta_{0,1} \\right)\\,\\sigma_2 -{\\dot{\\theta} }_{3,4} \\,x_{4,P} \\,\\cos \\left(\\theta_{0,1} \\right)\\,\\sin \\left(\\sigma_4 \\right)\\\\\n",
    "{\\dot{\\theta} }_{0,1} \\,\\cos \\left(\\theta_{0,1} \\right)\\,\\sigma_1 -{\\dot{\\theta} }_{2,3} \\,\\sin \\left(\\theta_{0,1} \\right)\\,\\sigma_3 -{\\dot{\\theta} }_{1,2} \\,\\sin \\left(\\theta_{0,1} \\right)\\,\\sigma_2 -{\\dot{\\theta} }_{3,4} \\,x_{4,P} \\,\\sin \\left(\\theta_{0,1} \\right)\\,\\sin \\left(\\sigma_4 \\right)\\\\\n",
    "-{\\dot{\\theta} }_{2,3} \\,{\\left(x_{3,4} \\,\\cos \\left(\\sigma_5 \\right)+x_{4,P} \\,\\cos \\left(\\sigma_4 \\right)\\right)}-{\\dot{\\theta} }_{1,2} \\,\\sigma_1 -{\\dot{\\theta} }_{3,4} \\,x_{4,P} \\,\\cos \\left(\\sigma_4 \\right)\\\\\n",
    "-{\\dot{\\theta} }_{0,1} \\,\\sin \\left(\\theta_{0,1} \\right)\\,\\cos \\left(\\sigma_4 \\right)-{\\dot{\\theta} }_{1,2} \\,\\cos \\left(\\theta_{0,1} \\right)\\,\\sin \\left(\\sigma_4 \\right)-{\\dot{\\theta} }_{2,3} \\,\\cos \\left(\\theta_{0,1} \\right)\\,\\sin \\left(\\sigma_4 \\right)-{\\dot{\\theta} }_{3,4} \\,\\cos \\left(\\theta_{0,1} \\right)\\,\\sin \\left(\\sigma_4 \\right)\\\\\n",
    "-{\\dot{\\theta} }_{0,1} \\,\\sin \\left(\\theta_{0,1} \\right)\\\\\n",
    "-{\\dot{\\theta} }_{1,2} \\,\\sin \\left(\\sigma_4 \\right)-{\\dot{\\theta} }_{2,3} \\,\\sin \\left(\\sigma_4 \\right)-{\\dot{\\theta} }_{3,4} \\,\\sin \\left(\\sigma_4 \\right)\n",
    "\\end{bmatrix}\n",
    "$$"
   ]
  },
  {
   "cell_type": "markdown",
   "id": "3a7cc144-c66f-4ebf-8792-e432e1d2d464",
   "metadata": {},
   "source": [
    "Donde:\n"
   ]
  },
  {
   "cell_type": "markdown",
   "id": "aa1e34d2-3e47-4904-9a78-99f3beb90dd5",
   "metadata": {},
   "source": [
    "\n",
    "$$\n",
    "\\begin{aligned}\n",
    "\\sigma_1 &= x_{2,3} \\,\\cos \\left(\\frac{\\pi }{2}-\\theta_{1,2} \\right)+x_{3,4} \\,\\cos \\left(\\sigma_5 \\right)+x_{4,P} \\,\\cos \\left(\\sigma_4 \\right) \\\\\n",
    "\\sigma_2 &= x_{3,4} \\,\\sin \\left(\\sigma_5 \\right)-x_{2,3} \\,\\sin \\left(\\frac{\\pi }{2}-\\theta_{1,2} \\right)+x_{4,P} \\,\\sin \\left(\\sigma_4 \\right) \\\\\n",
    "\\sigma_3 &= x_{3,4} \\,\\sin \\left(\\sigma_5 \\right)+x_{4,P} \\,\\sin \\left(\\sigma_4 \\right) \\\\\n",
    "\\sigma_4 &= \\theta_{1,2} -\\frac{\\pi }{2}+\\theta_{2,3} +\\theta_{3,4} \\\\\n",
    "\\sigma_5 &= \\theta_{1,2} -\\frac{\\pi }{2}+\\theta_{2,3}\n",
    "\\end{aligned}\n",
    "$$"
   ]
  },
  {
   "cell_type": "markdown",
   "id": "8d89956b-9a19-4ac4-96e5-22df44c3642e",
   "metadata": {},
   "source": [
    "## Cinematica inverso de posicion"
   ]
  },
  {
   "cell_type": "markdown",
   "id": "afe4c6a6-ced4-4604-86f9-8694088a6016",
   "metadata": {},
   "source": [
    "Para abordar el planteamiento de la cinemática inversa, emplearemos el método de desacoplamiento cinemático. Este enfoque divide el problema en dos partes: el posicionamiento y la orientación del efector final. Comenzaremos desarrollando la orientación, ya que esto nos permitirá determinar las coordenadas de la muñeca, las cuales son fundamentales para resolver la posición del efector.\n",
    "\n",
    "La orientación del efector final del robot estada por la matriz de rotación $^{0}R_P $ la cual se calcula de la siguiente manera:\n",
    "$^{0}R_P = ^{0}R_4 \\, ^{4}R_P = R_T$\n",
    "\n",
    "La matriz $^{0}R_4$ está asociada a los tres primeros grados de libertad del robot, mientras que la matriz $^{4}R_P$ se relaciona directamente con la orientación del codo del robot. Estas matrices, en conjunto, describen el efector final del robot en términos de las variables del espacio de trabajo. A partir de la ecuación anterior, se puede determinar la ubicación del sistema de coordenadas {4}.\n",
    "\n",
    "Para ello, partiremos de la transformación homogénea del efector final, considerando los valores del vector de postura:"
   ]
  },
  {
   "cell_type": "markdown",
   "id": "fc8d501e-483d-44d3-8965-84ac61215019",
   "metadata": {},
   "source": [
    "$$\n",
    "T_{\\text{efector}} =\n",
    "\\begin{bmatrix}\n",
    "\\cos \\left(\\alpha_{0,P} \\right)\\,\\cos \\left(\\beta_{0,P} \\right) & -\\sin \\left(\\alpha_{0,P} \\right) & \\cos \\left(\\alpha_{0,P} \\right)\\,\\sin \\left(\\beta_{0,P} \\right) & x_{0,P} \\\\\n",
    "\\cos \\left(\\beta_{0,P} \\right)\\,\\sin \\left(\\alpha_{0,P} \\right) & \\cos \\left(\\alpha_{0,P} \\right) & \\sin \\left(\\alpha_{0,P} \\right)\\,\\sin \\left(\\beta_{0,P} \\right) & y_{0,P} \\\\\n",
    "-\\sin \\left(\\beta_{0,P} \\right) & 0 & \\cos \\left(\\beta_{0,P} \\right) & z_{0,P} \\\\\n",
    "0 & 0 & 0 & 1\n",
    "\\end{bmatrix}\n",
    "$$"
   ]
  },
  {
   "cell_type": "markdown",
   "id": "45f3e967-cc6b-472f-ae20-998293ea61d9",
   "metadata": {},
   "source": [
    "Extraeremos la matriz de rotación."
   ]
  },
  {
   "cell_type": "markdown",
   "id": "ec31cb0f-b41c-438b-a232-dd9f14826d98",
   "metadata": {},
   "source": [
    "$$\n",
    "R_{\\text{efector}} =\n",
    "\\begin{bmatrix}\n",
    "\\cos \\left(\\alpha_{0,P} \\right)\\,\\cos \\left(\\beta_{0,P} \\right) & -\\sin \\left(\\alpha_{0,P} \\right) & \\cos \\left(\\alpha_{0,P} \\right)\\,\\sin \\left(\\beta_{0,P} \\right) \\\\\n",
    "\\cos \\left(\\beta_{0,P} \\right)\\,\\sin \\left(\\alpha_{0,P} \\right) & \\cos \\left(\\alpha_{0,P} \\right) & \\sin \\left(\\alpha_{0,P} \\right)\\,\\sin \\left(\\beta_{0,P} \\right) \\\\\n",
    "-\\sin \\left(\\beta_{0,P} \\right) & 0 & \\cos \\left(\\beta_{0,P} \\right)\n",
    "\\end{bmatrix}\n",
    "$$"
   ]
  },
  {
   "cell_type": "markdown",
   "id": "17ea50c2-b6dc-4345-9375-b8a10251f283",
   "metadata": {},
   "source": [
    "Una vez obtenida esta matriz, utilizando el vector $d$, podemos determinar la posición de la muñeca:"
   ]
  },
  {
   "cell_type": "markdown",
   "id": "b7756fd8",
   "metadata": {},
   "source": [
    "$$\n",
    "\\mathbf{d} =\n",
    "\\begin{bmatrix}\n",
    "0 \\\\\n",
    "0 \\\\\n",
    "-x_{4,P} \n",
    "\\end{bmatrix}\n",
    "$$"
   ]
  },
  {
   "cell_type": "markdown",
   "id": "2f8bc3ff",
   "metadata": {},
   "source": [
    "Con la multiplicacion de las matrices obtendriamos la posicion de nuestra muñeca:"
   ]
  },
  {
   "cell_type": "markdown",
   "id": "71798e52",
   "metadata": {},
   "source": [
    "$$\n",
    "P_{\\text{wrist}} = R_{\\text{efector}} \\cdot \\mathbf{d}\n",
    "$$\n",
    "\n",
    "\n",
    "$$\n",
    "P_{\\text{wrist}} =\n",
    "\\begin{bmatrix}\n",
    "x_{0,P} - x_{4,P} \\,\\cos \\left(\\alpha_{0,P} \\right)\\,\\sin \\left(\\beta_{0,P} \\right) \\\\\n",
    "y_{0,P} - x_{4,P} \\,\\sin \\left(\\alpha_{0,P} \\right)\\,\\sin \\left(\\beta_{0,P} \\right) \\\\\n",
    "z_{0,P} - x_{4,P} \\,\\cos \\left(\\beta_{0,P} \\right) \n",
    "\\end{bmatrix}\n",
    "$$\n",
    "\n",
    "<div align=\"center\" style=\"display: flex; justify-content: center; gap: 0; margin: 0;\">\n",
    "    <div style=\"text-align: center;\" >\n",
    "        <img src=\"Images/rob3.jpg\" alt=\"Figura 4. Diagrama de bases para la CI\" width=\"80%\" height=\"auto\" />\n",
    "        <br>\n",
    "        <em>Figura 4. Diagrama de bases para la CI</em>\n",
    "    </div>\n",
    "</div>"
   ]
  },
  {
   "cell_type": "markdown",
   "id": "79bba4ff",
   "metadata": {},
   "source": [
    "El vector $ P_{\\text{wrist}} $ indica el posicionamiento de la muñeca, en valores que ya conocemos, por lo que solamente quedaria solucionar parte de la posicion. Pero debemos terminar el planteamiento de la orientacion. Debido a nuestra configuracion del robot, tenemos restricciones en la orientacion. Por ello vamos a utilizar la inversa de la rotacion del tercer eslabon para describir  cómo rotan las articulaciones del brazo para pasar de la orientación actual $ ^{0}R_3 $ a la orientación deseada $R_{\\text{efector}}$ y asi conseguir el angulo para dar la orientacion deseada.\n",
    "\n",
    "$$\n",
    "R_{\\text{wrist}} = ^{0}R_3 ^{-1}  \\cdot \\mathbf{R_{\\text{efector}}}\n",
    "$$"
   ]
  },
  {
   "cell_type": "markdown",
   "id": "f8d554b4",
   "metadata": {},
   "source": [
    "$$\n",
    "R_{\\text{wrist}} =\n",
    "\\begin{bmatrix}\n",
    "\\sin \\left(\\sigma_1 \\right)\\,\\sin \\left(\\beta_{0,P} \\right)+\\cos \\left(\\sigma_1 \\right)\\,\\cos \\left(\\alpha_{0,P} \\right)\\,\\cos \\left(\\beta_{0,P} \\right)\\,\\cos \\left(\\theta_{0,1} \\right)+\\cos \\left(\\sigma_1 \\right)\\,\\cos \\left(\\beta_{0,P} \\right)\\,\\sin \\left(\\alpha_{0,P} \\right)\\,\\sin \\left(\\theta_{0,1} \\right) & -\\sin \\left(\\alpha_{0,P} -\\theta_{0,1} \\right)\\,\\cos \\left(\\sigma_1 \\right) & \\cos \\left(\\sigma_1 \\right)\\,\\cos \\left(\\alpha_{0,P} \\right)\\,\\sin \\left(\\beta_{0,P} \\right)\\,\\cos \\left(\\theta_{0,1} \\right)-\\sin \\left(\\sigma_1 \\right)\\,\\cos \\left(\\beta_{0,P} \\right)+\\cos \\left(\\sigma_1 \\right)\\,\\sin \\left(\\alpha_{0,P} \\right)\\,\\sin \\left(\\beta_{0,P} \\right)\\,\\sin \\left(\\theta_{0,1} \\right) \\\\\n",
    "\\sin \\left(\\alpha_{0,P} -\\theta_{0,1} \\right)\\,\\cos \\left(\\beta_{0,P} \\right) & \\cos \\left(\\alpha_{0,P} -\\theta_{0,1} \\right) & \\sin \\left(\\alpha_{0,P} -\\theta_{0,1} \\right)\\,\\sin \\left(\\beta_{0,P} \\right) \\\\\n",
    "\\sin \\left(\\sigma_1 \\right)\\,\\cos \\left(\\alpha_{0,P} \\right)\\,\\cos \\left(\\beta_{0,P} \\right)\\,\\cos \\left(\\theta_{0,1} \\right)-\\cos \\left(\\sigma_1 \\right)\\,\\sin \\left(\\beta_{0,P} \\right)+\\sin \\left(\\sigma_1 \\right)\\,\\cos \\left(\\beta_{0,P} \\right)\\,\\sin \\left(\\alpha_{0,P} \\right)\\,\\sin \\left(\\theta_{0,1} \\right) & -\\sin \\left(\\alpha_{0,P} -\\theta_{0,1} \\right)\\,\\sin \\left(\\sigma_1 \\right) & \\cos \\left(\\sigma_1 \\right)\\,\\cos \\left(\\beta_{0,P} \\right)+\\sin \\left(\\sigma_1 \\right)\\,\\cos \\left(\\alpha_{0,P} \\right)\\,\\sin \\left(\\beta_{0,P} \\right)\\,\\cos \\left(\\theta_{0,1} \\right)+\\sin \\left(\\sigma_1 \\right)\\,\\sin \\left(\\alpha_{0,P} \\right)\\,\\sin \\left(\\beta_{0,P} \\right)\\,\\sin \\left(\\theta_{0,1} \\right)\n",
    "\\end{bmatrix}\n",
    "$$\n"
   ]
  },
  {
   "cell_type": "markdown",
   "id": "6571d649",
   "metadata": {},
   "source": [
    "$$\n",
    "\\text{donde:} \\quad \\sigma_1 = \\theta_{1,2} - \\frac{\\pi}{2} + \\theta_{2,3}\n",
    "$$"
   ]
  },
  {
   "cell_type": "markdown",
   "id": "1b177684",
   "metadata": {},
   "source": [
    "Con esta matriz podemos sustituir $\\beta$ y $\\alpha$ por $\\theta_{3,4}$  y $\\theta_{0,1}$ , ya que dichos valores son los que contribuyen en mayor medida para determinar la orientacion del efector final."
   ]
  },
  {
   "cell_type": "markdown",
   "id": "0acd0fe2",
   "metadata": {},
   "source": [
    "$$\n",
    "R_{\\text{wrist}} =\n",
    "\\begin{bmatrix}\n",
    "\\cos \\left(\\frac{\\pi}{2} - \\theta_{1,2} - \\theta_{2,3} + \\theta_{3,4} \\right) & 0 & \\sin \\left(\\frac{\\pi}{2} - \\theta_{1,2} - \\theta_{2,3} + \\theta_{3,4} \\right) \\\\\n",
    "0 & 1 & 0 \\\\\n",
    "-\\sin \\left(\\frac{\\pi}{2} - \\theta_{1,2} - \\theta_{2,3} + \\theta_{3,4} \\right) & 0 & \\cos \\left(\\frac{\\pi}{2} - \\theta_{1,2} - \\theta_{2,3} + \\theta_{3,4} \\right)\n",
    "\\end{bmatrix}\n",
    "$$"
   ]
  },
  {
   "cell_type": "markdown",
   "id": "ac8fcbfb",
   "metadata": {},
   "source": [
    "Como podemos observar, tenemos varias opciones para soluciona, para este caso vamos a solucionar la componente $r_{\\text{3,3}}$:\n",
    "$$\n",
    "r_{3,3} = \\cos \\left(\\frac{\\pi}{2} - \\theta_{1,2} - \\theta_{2,3} + \\theta_{3,4} \\right)\n",
    "$$\n",
    "A partir de esta despejamos el angulo  $\\theta_{3,4}$:\n",
    "$$\n",
    "\\theta_{3,4} = \\theta_{1,2} - \\frac{\\pi}{2} + \\theta_{2,3} + \\arccos\\left(r_{3,3}\\right)\n",
    "$$\n"
   ]
  },
  {
   "cell_type": "markdown",
   "id": "c1df1acc",
   "metadata": {},
   "source": [
    "$$ \\therefore \\theta_{3,4} = \\beta_{0,P}  $$\n",
    "y\n",
    "$$ \\alpha_{0,P}= \\theta_{0,1}  $$"
   ]
  },
  {
   "cell_type": "markdown",
   "id": "fd7bb2c1",
   "metadata": {},
   "source": [
    "Ya solucionado la orientacion pasamos a la posicion:\n",
    "\n",
    "Ya que tenemos la posicion de la muñeca, podemos hacer estas proyecciones:\n",
    "$$\n",
    "P_{\\text{wrist}} =\n",
    "\\begin{bmatrix}\n",
    "x_{0,P} - x_{4,P} \\,\\cos \\left(\\alpha_{0,P} \\right)\\,\\sin \\left(\\beta_{0,P} \\right) \\\\\n",
    "y_{0,P} - x_{4,P} \\,\\sin \\left(\\alpha_{0,P} \\right)\\,\\sin \\left(\\beta_{0,P} \\right) \\\\\n",
    "z_{0,P} - x_{4,P} \\,\\cos \\left(\\beta_{0,P} \\right) \n",
    "\\end{bmatrix}\n",
    "$$"
   ]
  },
  {
   "cell_type": "markdown",
   "id": "4a5ea1a4",
   "metadata": {},
   "source": [
    "Para la obtencion del primer grado de libertad es de la siguiente forma:\n",
    "$$\n",
    "\\theta_{0,1} = \\mathrm{atan2}\\left(\\frac{p_y}{p_x}\\right)\n",
    "$$\n",
    "\n",
    "\n",
    "Para el segundo grado de libertad  $\\theta_{1,2}$, podemos apoyarnos de un vector que parte de de la base $^{1}P_{\\text{wrist}}$ o $^{1}P_4$ y para obtener el $\\epsilon$ mediante la definicion del producto punto , siendo un paso intermedio \n"
   ]
  },
  {
   "cell_type": "markdown",
   "id": "cce6901b",
   "metadata": {},
   "source": [
    "$$\\epsilon = \\arccos\\left(\\frac{\\hat{Z}_1 \\cdot {}^{1}P_4}{\\|\\hat{Z}_1\\| \\|{}^{1}P_4\\|}\\right)$$"
   ]
  },
  {
   "cell_type": "markdown",
   "id": "a1cc3092",
   "metadata": {},
   "source": [
    "y"
   ]
  },
  {
   "cell_type": "markdown",
   "id": "e4464904",
   "metadata": {},
   "source": [
    "$$\\epsilon = \\theta_{1,2} + \\rho$$ ..(ec1)"
   ]
  },
  {
   "cell_type": "markdown",
   "id": "de5dfa6d",
   "metadata": {},
   "source": [
    "Para obtener  $\\rho$ podemos apoyarnos de la ley de cosenos conforme al triangulo que se forma con $^{1}P_4$ , $l_1 $ y $l_2$\n"
   ]
  },
  {
   "cell_type": "markdown",
   "id": "8d38135e",
   "metadata": {},
   "source": [
    "$$ l_2^2 = l_1^2 + \\|^{1}P_4\\|^2 - 2 l_2 \\|^{1}P_4\\| \\cos(\\rho)$$\n",
    "\n",
    "Con esta expresion, despejamos $\\rho$:\n",
    "\n",
    "$$\\rho = \\arccos\\left(\\frac{l_1^2 + \\|^{1}P_4\\|^2 - l_2^2}{2 l_2 \\|^{1}P_4\\|}\\right)$$"
   ]
  },
  {
   "cell_type": "markdown",
   "id": "6f356c69",
   "metadata": {},
   "source": [
    "Ya teniendo esta ecuacion podemos despejar $\\theta_{1,2}$ de la ec1 y despues sustituir $\\mu$ y $\\rho$\n",
    "\n",
    "$$\\theta_{1,2} =\\epsilon - \\rho $$\n",
    "\n",
    "$$\\therefore \\theta_{1,2}= \\arccos\\left(\\frac{\\hat{Z}_1 \\cdot {}^{1}P_4}{\\|\\hat{Z}_1\\| \\|{}^{1}P_4\\|}\\right) - \\arccos\\left(\\frac{l_1^2 + \\|^{1}P_4\\|^2 - l_2^2}{2 l_2 \\|^{1}P_4\\|}\\right) $$"
   ]
  },
  {
   "cell_type": "markdown",
   "id": "4562e855",
   "metadata": {},
   "source": [
    "y por ultimo el tercer grado de libertad $\\theta_{2,3}$ podemos observar que \n",
    "\n",
    "$$ \\pi = \\mu + \\theta_{2,3} $$\n",
    "$$\\therefore \\theta_{2,3}= \\pi - \\mu $$ ...(ec2)\n",
    "\n",
    "Ocuparemos la ley de senos para poder obtener $\\mu$ :"
   ]
  },
  {
   "cell_type": "markdown",
   "id": "1d75560b",
   "metadata": {},
   "source": [
    "$$ \\frac{\\sin(\\mu)}{\\|{}^{1}P_4\\|} = \\frac{\\sin(\\rho)}{l_2}$$\n",
    "\n",
    "despejamos $\\mu$:\n",
    "\n",
    "$$ \\sin(\\mu) = \\frac{\\|{}^{1}P_4\\| \\sin(\\rho)}{l_2} $$\n",
    "\n",
    "$$\\therefore \\mu = \\arcsin\\left(\\frac{\\|{}^{1}P_4\\| \\sin(\\rho)}{l_2}\\right)$$\n",
    "\n",
    "ahora sustituimos $\\mu $ de ec2:\n",
    "\n",
    "$$ \\theta_{2,3}= \\pi - \\arcsin\\left(\\frac{\\|{}^{1}P_4\\| \\sin(\\rho)}{l_2}\\right)$$\n"
   ]
  },
  {
   "cell_type": "markdown",
   "id": "d607eb3f",
   "metadata": {},
   "source": [
    "## Resultados"
   ]
  },
  {
   "cell_type": "markdown",
   "id": "2ae5fd88",
   "metadata": {},
   "source": [
    "![Imagen1](Images/image1.png) **figura 5 Visualizacion URDF en el entorno Rviz**\n",
    "\n",
    "Podemos ver varias opciones de pose de nuestro manipulador.\n",
    "\n",
    "![Postura1.png](Images/pose1.png) **figura 6 pose_1**\n",
    "\n",
    "Captura tomada desde RVIZ\n",
    "\n",
    "![Postura2.png](Images/pose2.png) **figura 7 pose_2**\n",
    "\n",
    "\n",
    "Captura tomada desde Gazebo\n",
    "![Postura2.png](Images/gazebo1.png) **figura 8 Vista de Rviz**\n",
    "\n",
    "![Postura2.png](Images/gazebo2.png) **figura 9 Vista de Gazebo1**\n",
    "\n",
    "![Postura2.png](Images/gazebo3.png) **figura 10 Vista de Gazebo2**\n",
    "\n",
    "\n",
    "\n",
    "Finalmente videos sobre la ejecucion de los paquetes \n",
    "\n",
    "Para la ejecución del paquete Examen_description\n",
    "[![Diagrama](https://img.youtube.com/vi/oxaH9CFpeEE/0.jpg)](https://youtu.be/4ar5420p9b8)\n",
    "\n",
    "Para la ejecución del paquete Examen_bringup\n",
    "[![Diagrama](https://img.youtube.com/vi/oxaH9CFpeEE/0.jpg)](https://youtu.be/Rt4O_nSG2sE)\n",
    "\n"
   ]
  },
  {
   "cell_type": "markdown",
   "id": "73ed509f",
   "metadata": {},
   "source": [
    "## Conclusiones\n",
    "El desarrollo de este examen permitió integrar conocimientos teóricos y prácticos en el modelado y simulación de un robot serial 4R. A través del uso de herramientas como ROS 2, Gazebo y modelos matemáticos, se abordaron las etapas esenciales de diseño, análisis y validación. La cinemática directa e inversa fueron fundamentales para describir y controlar el movimiento del robot en su espacio de trabajo, mientras que el entorno virtual proporcionó un medio seguro y eficiente para probar el desempeño del sistema.\n",
    "\n",
    "Este proceso destacó la importancia de las transformaciones homogéneas y del desacoplamiento cinemático para resolver problemas complejos de posicionamiento y orientación del efector final. Además, la simulación en 3D nos brinda herramientas para la validacion de los modelos matemáticos y su aplicabilidad en sistemas reales. En resumen, este examen reforzó la capacidad de vincular teoría y práctica, sentando una base sólida para futuros proyectos en robótica."
   ]
  },
  {
   "cell_type": "markdown",
   "id": "fd833056-9065-4ceb-9ca5-8903bbab1684",
   "metadata": {},
   "source": [
    "##### Autores: \n",
    "**Autor** Jesus Alejandro Lopez Poblano [GitHub profile](https://github.com/JesusLopezPob) \n",
    "\n",
    "**Autor** Ian Leonardo Espino Vazquez [GitHub profile](https://github.com/IanEspino)\n",
    "\n",
    "**Autor** Jesús Velazquez Jalpilla [GitHub profile](https://github.com/JesusVelazquezJal)\n",
    "\n",
    "**Autor** Carlos Ivan Guzmán Flores [GitHub profile](https://github.com/CarlosG318)\n",
    "\n",
    "**Autor** Sebastián López Jaramillo [GitHub profile](https://github.com/Sebas5681)\n",
    "\n",
    "\n",
    "##### Revisor: M.I Enrique Peña Medina"
   ]
  },
  {
   "cell_type": "markdown",
   "id": "71fabba4-1aaa-450d-9b0e-464b9af2b81d",
   "metadata": {},
   "source": [
    "---"
   ]
  },
  {
   "cell_type": "markdown",
   "id": "308fdd8d",
   "metadata": {},
   "source": [
    "## Referencias\n",
    "\n",
    "[1] M. W. Spong, S. Hutchinson, and M. Vidyasagar, *Robot Dynamics and Control*, 2nd ed. New York: Wiley, 2004.\n",
    "\n",
    "[2] E. Peña Medina, \"Clase 11 de octubre: Introducción al formato URDF,\" 16 de octubre de 2023. Accedido el 12 de noviembre de 2024. [Video en línea]. Disponible en: https://www.youtube.com/watch?v=Had0f3d0F0w\n",
    "\n",
    "[3] Advanced Robotics Research Group - UNAM - FI - MX, \"robotica-2025-1,\" GitHub repository, 2024. [Online]. Available: https://github.com/arrg-mx/robotica-2025-1\n"
   ]
  },
  {
   "cell_type": "code",
   "execution_count": null,
   "id": "2af8c4f9-36c2-4339-8cc7-222abca77f42",
   "metadata": {},
   "outputs": [],
   "source": []
  }
 ],
 "metadata": {
  "kernelspec": {
   "display_name": "Python 3 (ipykernel)",
   "language": "python",
   "name": "python3"
  },
  "language_info": {
   "codemirror_mode": {
    "name": "ipython",
    "version": 3
   },
   "file_extension": ".py",
   "mimetype": "text/x-python",
   "name": "python",
   "nbconvert_exporter": "python",
   "pygments_lexer": "ipython3",
   "version": "3.10.12"
  }
 },
 "nbformat": 4,
 "nbformat_minor": 5
}
